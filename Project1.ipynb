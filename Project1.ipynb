{
 "cells": [
  {
   "cell_type": "markdown",
   "metadata": {},
   "source": [
    "> **Tip**: Welcome to the Investigate a Dataset project! You will find tips in quoted sections like this to help organize your approach to your investigation. Before submitting your project, it will be a good idea to go back through your report and remove these sections to make the presentation of your work as tidy as possible. First things first, you might want to double-click this Markdown cell and change the title so that it reflects your dataset and investigation.\n",
    "\n",
    "# Project: Appointment that failed to present Data Analysis\n",
    "\n",
    "## Table of Contents\n",
    "<ul>\n",
    "<li><a href=\"#intro\">Introduction</a></li>\n",
    "<li><a href=\"#wrangling\">Data Wrangling</a></li>\n",
    "<li><a href=\"#eda\">Exploratory Data Analysis</a></li>\n",
    "<li><a href=\"#conclusions\">Conclusions</a></li>\n",
    "</ul>"
   ]
  },
  {
   "cell_type": "markdown",
   "metadata": {},
   "source": [
    "<a id='intro'></a>\n",
    "## Introduction\n",
    "\n",
    "> **Tip**: In this section of the report, provide a brief introduction to the dataset you've selected for analysis. At the end of this section, describe the questions that you plan on exploring over the course of the report. Try to build your report around the analysis of at least one dependent variable and three independent variables.\n",
    ">\n",
    "> If you haven't yet selected and downloaded your data, make sure you do that first before coming back here. If you're not sure what questions to ask right now, then make sure you familiarize yourself with the variables and the dataset context for ideas of what to explore.\n",
    "\n",
    "This Project is analysing Data Set that describes \"No-show appointments\" in Brazil and Its is focused on the question of whether or not patients show up for their appointment. It contain information from 100k medical appointments. Sample of Record 110527nd No of Columns 14. No Duplicate rows and No NULL Values found."
   ]
  },
  {
   "cell_type": "code",
   "execution_count": 2,
   "metadata": {
    "scrolled": true
   },
   "outputs": [],
   "source": [
    "# Use this cell to set up import statements for all of the packages that you\n",
    "#   plan to use.\n",
    "\n",
    "import pandas as pd\n",
    "import numpy as np\n",
    "import matplotlib.pyplot as plt\n",
    "import seaborn as sns\n",
    "%matplotlib inline\n",
    "\n",
    "\n",
    "\n",
    "\n"
   ]
  },
  {
   "cell_type": "markdown",
   "metadata": {},
   "source": [
    "Which Gender is Not Show Up for an appointment More ? Females "
   ]
  },
  {
   "cell_type": "markdown",
   "metadata": {},
   "source": [
    "<a id='wrangling'></a>\n",
    "## Data Wrangling\n",
    "\n",
    "> **Tip**: In this section of the report, you will load in the data, check for cleanliness, and then trim and clean your dataset for analysis. Make sure that you document your steps carefully and justify your cleaning decisions.\n",
    "\n",
    "### General Properties"
   ]
  },
  {
   "cell_type": "code",
   "execution_count": 3,
   "metadata": {},
   "outputs": [
    {
     "name": "stdout",
     "output_type": "stream",
     "text": [
      "<class 'pandas.core.frame.DataFrame'>\n",
      "RangeIndex: 110527 entries, 0 to 110526\n",
      "Data columns (total 14 columns):\n",
      "PatientId         110527 non-null float64\n",
      "AppointmentID     110527 non-null int64\n",
      "Gender            110527 non-null object\n",
      "ScheduledDay      110527 non-null object\n",
      "AppointmentDay    110527 non-null object\n",
      "Age               110527 non-null int64\n",
      "Neighbourhood     110527 non-null object\n",
      "Scholarship       110527 non-null int64\n",
      "Hipertension      110527 non-null int64\n",
      "Diabetes          110527 non-null int64\n",
      "Alcoholism        110527 non-null int64\n",
      "Handcap           110527 non-null int64\n",
      "SMS_received      110527 non-null int64\n",
      "No-show           110527 non-null object\n",
      "dtypes: float64(1), int64(8), object(5)\n",
      "memory usage: 11.8+ MB\n"
     ]
    }
   ],
   "source": [
    "\n",
    "\n",
    "df = pd.read_csv('noshowappointments-kagglev2-may-2016.csv')\n",
    "df.head()\n",
    "\n",
    "# Diamention of Data frame\n",
    "df.shape\n",
    "\n",
    "# Find Number of Null values\n",
    "df.isnull().sum()\n",
    "\n",
    "# Find Number of Duplicatre Values\n",
    "df.duplicated().sum()\n",
    "\n",
    "#Find Std and Mean\n",
    "df.describe()\n",
    "\n",
    "\n",
    "# Find the Age values\n",
    "df['Age'].value_counts()\n",
    "\n",
    "# Data Type for Data Frame\n",
    "df.dtypes\n",
    "\n",
    "# Find the Object Data Type\n",
    "type(df['ScheduledDay'][0])\n",
    "type(df['AppointmentDay'][0])\n",
    "\n",
    "df.info()\n",
    "\n"
   ]
  },
  {
   "cell_type": "markdown",
   "metadata": {},
   "source": [
    "> **Tip**: You should _not_ perform too many operations in each cell. Create cells freely to explore your data. One option that you can take with this project is to do a lot of explorations in an initial notebook. These don't have to be organized, but make sure you use enough comments to understand the purpose of each code cell. Then, after you're done with your analysis, create a duplicate notebook where you will trim the excess and organize your steps so that you have a flowing, cohesive report.\n",
    "\n",
    "> **Tip**: Make sure that you keep your reader informed on the steps that you are taking in your investigation. Follow every code cell, or every set of related code cells, with a markdown cell to describe to the reader what was found in the preceding cell(s). Try to make it so that the reader can then understand what they will be seeing in the following cell(s).\n",
    "\n",
    "### Data Cleaning (Replace this with more specific notes!)"
   ]
  },
  {
   "cell_type": "code",
   "execution_count": 5,
   "metadata": {},
   "outputs": [
    {
     "data": {
      "text/plain": [
       "39.07518726482"
      ]
     },
     "execution_count": 5,
     "metadata": {},
     "output_type": "execute_result"
    }
   ],
   "source": [
    "\n",
    "\n",
    "#Change String to Date Time\n",
    "#df['ScheduledDay']= pd.to_datetime(df['ScheduledDay'])\n",
    "\n",
    "\n",
    "#Change tString to Date Time\n",
    "df['AppointmentDay']= pd.to_datetime(df['AppointmentDay'])\n",
    "\n",
    "\n",
    "#Removing Age less than 0 from data set\n",
    "df = df[df['Age'] >= 1]\n",
    "df.describe()\n",
    "\n",
    "# Drop columns that are not necessory\n",
    "#df.drop(['Neighbourhood'], axis=1, inplace=True)\n",
    "df.head()\n",
    "\n",
    "\n",
    "df.rename(columns={'No-show': 'No_show'}, inplace=True)\n",
    "#Pations Not Show Up vs Age\n",
    "\n",
    "NoTShown = df.No_show == \"Yes\"\n",
    "df.Age[NoTShown].mean()\n",
    "\n",
    "#Pations Showed up vs Age\n",
    "Shown = df.No_show ==\"No\"\n",
    "df.Age[Shown].mean()\n",
    "\n",
    "\n"
   ]
  },
  {
   "cell_type": "code",
   "execution_count": 11,
   "metadata": {},
   "outputs": [
    {
     "data": {
      "text/plain": [
       "(10809, 14)"
      ]
     },
     "execution_count": 11,
     "metadata": {},
     "output_type": "execute_result"
    }
   ],
   "source": [
    "#Create 2 diffrent data frame(df_SC, df_NSC) according to Scholership\n",
    "\n",
    "#df.rename(columns={'No-show' : 'No_show'}, inplace=True)\n",
    "df.head()\n",
    "df_SC = df.query('Scholarship == \"0\"')\n",
    "df_SC.shape\n",
    "df_NSC = df.query('Scholarship == \"1\"')\n",
    "df_NSC.shape"
   ]
  },
  {
   "cell_type": "markdown",
   "metadata": {},
   "source": [
    "Check which group  Missed the appointment most (Scholarship or Non Scholarship)"
   ]
  },
  {
   "cell_type": "code",
   "execution_count": 13,
   "metadata": {},
   "outputs": [
    {
     "data": {
      "text/html": [
       "<div>\n",
       "<style scoped>\n",
       "    .dataframe tbody tr th:only-of-type {\n",
       "        vertical-align: middle;\n",
       "    }\n",
       "\n",
       "    .dataframe tbody tr th {\n",
       "        vertical-align: top;\n",
       "    }\n",
       "\n",
       "    .dataframe thead th {\n",
       "        text-align: right;\n",
       "    }\n",
       "</style>\n",
       "<table border=\"1\" class=\"dataframe\">\n",
       "  <thead>\n",
       "    <tr style=\"text-align: right;\">\n",
       "      <th></th>\n",
       "      <th>PatientId</th>\n",
       "      <th>AppointmentID</th>\n",
       "      <th>Gender</th>\n",
       "      <th>ScheduledDay</th>\n",
       "      <th>AppointmentDay</th>\n",
       "      <th>Age</th>\n",
       "      <th>Neighbourhood</th>\n",
       "      <th>Scholarship</th>\n",
       "      <th>Hipertension</th>\n",
       "      <th>Diabetes</th>\n",
       "      <th>Alcoholism</th>\n",
       "      <th>Handcap</th>\n",
       "      <th>SMS_received</th>\n",
       "      <th>No_show</th>\n",
       "    </tr>\n",
       "  </thead>\n",
       "  <tbody>\n",
       "    <tr>\n",
       "      <td>17</td>\n",
       "      <td>1.479497e+13</td>\n",
       "      <td>5633460</td>\n",
       "      <td>F</td>\n",
       "      <td>2016-04-28T09:28:57Z</td>\n",
       "      <td>2016-04-29 00:00:00+00:00</td>\n",
       "      <td>40</td>\n",
       "      <td>CONQUISTA</td>\n",
       "      <td>1</td>\n",
       "      <td>0</td>\n",
       "      <td>0</td>\n",
       "      <td>0</td>\n",
       "      <td>0</td>\n",
       "      <td>0</td>\n",
       "      <td>Yes</td>\n",
       "    </tr>\n",
       "    <tr>\n",
       "      <td>31</td>\n",
       "      <td>3.112849e+11</td>\n",
       "      <td>5628907</td>\n",
       "      <td>M</td>\n",
       "      <td>2016-04-27T12:07:14Z</td>\n",
       "      <td>2016-04-29 00:00:00+00:00</td>\n",
       "      <td>12</td>\n",
       "      <td>NOVA PALESTINA</td>\n",
       "      <td>1</td>\n",
       "      <td>0</td>\n",
       "      <td>0</td>\n",
       "      <td>0</td>\n",
       "      <td>0</td>\n",
       "      <td>0</td>\n",
       "      <td>Yes</td>\n",
       "    </tr>\n",
       "    <tr>\n",
       "      <td>51</td>\n",
       "      <td>4.694699e+13</td>\n",
       "      <td>5534635</td>\n",
       "      <td>F</td>\n",
       "      <td>2016-03-31T17:05:31Z</td>\n",
       "      <td>2016-04-29 00:00:00+00:00</td>\n",
       "      <td>23</td>\n",
       "      <td>GRANDE VITÓRIA</td>\n",
       "      <td>1</td>\n",
       "      <td>0</td>\n",
       "      <td>0</td>\n",
       "      <td>0</td>\n",
       "      <td>0</td>\n",
       "      <td>1</td>\n",
       "      <td>Yes</td>\n",
       "    </tr>\n",
       "    <tr>\n",
       "      <td>52</td>\n",
       "      <td>7.987570e+14</td>\n",
       "      <td>5534639</td>\n",
       "      <td>F</td>\n",
       "      <td>2016-03-31T17:06:17Z</td>\n",
       "      <td>2016-04-29 00:00:00+00:00</td>\n",
       "      <td>23</td>\n",
       "      <td>GRANDE VITÓRIA</td>\n",
       "      <td>1</td>\n",
       "      <td>0</td>\n",
       "      <td>0</td>\n",
       "      <td>0</td>\n",
       "      <td>0</td>\n",
       "      <td>1</td>\n",
       "      <td>Yes</td>\n",
       "    </tr>\n",
       "    <tr>\n",
       "      <td>123</td>\n",
       "      <td>3.673278e+13</td>\n",
       "      <td>5621388</td>\n",
       "      <td>F</td>\n",
       "      <td>2016-04-26T10:12:46Z</td>\n",
       "      <td>2016-04-29 00:00:00+00:00</td>\n",
       "      <td>31</td>\n",
       "      <td>BELA VISTA</td>\n",
       "      <td>1</td>\n",
       "      <td>0</td>\n",
       "      <td>0</td>\n",
       "      <td>0</td>\n",
       "      <td>0</td>\n",
       "      <td>1</td>\n",
       "      <td>Yes</td>\n",
       "    </tr>\n",
       "    <tr>\n",
       "      <td>...</td>\n",
       "      <td>...</td>\n",
       "      <td>...</td>\n",
       "      <td>...</td>\n",
       "      <td>...</td>\n",
       "      <td>...</td>\n",
       "      <td>...</td>\n",
       "      <td>...</td>\n",
       "      <td>...</td>\n",
       "      <td>...</td>\n",
       "      <td>...</td>\n",
       "      <td>...</td>\n",
       "      <td>...</td>\n",
       "      <td>...</td>\n",
       "      <td>...</td>\n",
       "    </tr>\n",
       "    <tr>\n",
       "      <td>110238</td>\n",
       "      <td>8.937375e+11</td>\n",
       "      <td>5747054</td>\n",
       "      <td>F</td>\n",
       "      <td>2016-05-30T14:56:51Z</td>\n",
       "      <td>2016-06-08 00:00:00+00:00</td>\n",
       "      <td>40</td>\n",
       "      <td>JABOUR</td>\n",
       "      <td>1</td>\n",
       "      <td>0</td>\n",
       "      <td>0</td>\n",
       "      <td>0</td>\n",
       "      <td>0</td>\n",
       "      <td>1</td>\n",
       "      <td>Yes</td>\n",
       "    </tr>\n",
       "    <tr>\n",
       "      <td>110351</td>\n",
       "      <td>4.483937e+13</td>\n",
       "      <td>5371807</td>\n",
       "      <td>F</td>\n",
       "      <td>2016-02-19T14:12:52Z</td>\n",
       "      <td>2016-06-01 00:00:00+00:00</td>\n",
       "      <td>27</td>\n",
       "      <td>RESISTÊNCIA</td>\n",
       "      <td>1</td>\n",
       "      <td>0</td>\n",
       "      <td>0</td>\n",
       "      <td>0</td>\n",
       "      <td>0</td>\n",
       "      <td>1</td>\n",
       "      <td>Yes</td>\n",
       "    </tr>\n",
       "    <tr>\n",
       "      <td>110400</td>\n",
       "      <td>8.382848e+11</td>\n",
       "      <td>5739407</td>\n",
       "      <td>F</td>\n",
       "      <td>2016-05-25T13:29:23Z</td>\n",
       "      <td>2016-06-07 00:00:00+00:00</td>\n",
       "      <td>36</td>\n",
       "      <td>RESISTÊNCIA</td>\n",
       "      <td>1</td>\n",
       "      <td>0</td>\n",
       "      <td>0</td>\n",
       "      <td>0</td>\n",
       "      <td>0</td>\n",
       "      <td>1</td>\n",
       "      <td>Yes</td>\n",
       "    </tr>\n",
       "    <tr>\n",
       "      <td>110479</td>\n",
       "      <td>4.455244e+12</td>\n",
       "      <td>5638153</td>\n",
       "      <td>F</td>\n",
       "      <td>2016-04-29T07:45:43Z</td>\n",
       "      <td>2016-06-06 00:00:00+00:00</td>\n",
       "      <td>34</td>\n",
       "      <td>RESISTÊNCIA</td>\n",
       "      <td>1</td>\n",
       "      <td>0</td>\n",
       "      <td>0</td>\n",
       "      <td>0</td>\n",
       "      <td>0</td>\n",
       "      <td>1</td>\n",
       "      <td>Yes</td>\n",
       "    </tr>\n",
       "    <tr>\n",
       "      <td>110482</td>\n",
       "      <td>5.944225e+14</td>\n",
       "      <td>5639147</td>\n",
       "      <td>F</td>\n",
       "      <td>2016-04-29T08:45:44Z</td>\n",
       "      <td>2016-06-06 00:00:00+00:00</td>\n",
       "      <td>43</td>\n",
       "      <td>RESISTÊNCIA</td>\n",
       "      <td>1</td>\n",
       "      <td>0</td>\n",
       "      <td>0</td>\n",
       "      <td>0</td>\n",
       "      <td>0</td>\n",
       "      <td>1</td>\n",
       "      <td>Yes</td>\n",
       "    </tr>\n",
       "  </tbody>\n",
       "</table>\n",
       "<p>2571 rows × 14 columns</p>\n",
       "</div>"
      ],
      "text/plain": [
       "           PatientId  AppointmentID Gender          ScheduledDay  \\\n",
       "17      1.479497e+13        5633460      F  2016-04-28T09:28:57Z   \n",
       "31      3.112849e+11        5628907      M  2016-04-27T12:07:14Z   \n",
       "51      4.694699e+13        5534635      F  2016-03-31T17:05:31Z   \n",
       "52      7.987570e+14        5534639      F  2016-03-31T17:06:17Z   \n",
       "123     3.673278e+13        5621388      F  2016-04-26T10:12:46Z   \n",
       "...              ...            ...    ...                   ...   \n",
       "110238  8.937375e+11        5747054      F  2016-05-30T14:56:51Z   \n",
       "110351  4.483937e+13        5371807      F  2016-02-19T14:12:52Z   \n",
       "110400  8.382848e+11        5739407      F  2016-05-25T13:29:23Z   \n",
       "110479  4.455244e+12        5638153      F  2016-04-29T07:45:43Z   \n",
       "110482  5.944225e+14        5639147      F  2016-04-29T08:45:44Z   \n",
       "\n",
       "                  AppointmentDay  Age   Neighbourhood  Scholarship  \\\n",
       "17     2016-04-29 00:00:00+00:00   40       CONQUISTA            1   \n",
       "31     2016-04-29 00:00:00+00:00   12  NOVA PALESTINA            1   \n",
       "51     2016-04-29 00:00:00+00:00   23  GRANDE VITÓRIA            1   \n",
       "52     2016-04-29 00:00:00+00:00   23  GRANDE VITÓRIA            1   \n",
       "123    2016-04-29 00:00:00+00:00   31      BELA VISTA            1   \n",
       "...                          ...  ...             ...          ...   \n",
       "110238 2016-06-08 00:00:00+00:00   40          JABOUR            1   \n",
       "110351 2016-06-01 00:00:00+00:00   27     RESISTÊNCIA            1   \n",
       "110400 2016-06-07 00:00:00+00:00   36     RESISTÊNCIA            1   \n",
       "110479 2016-06-06 00:00:00+00:00   34     RESISTÊNCIA            1   \n",
       "110482 2016-06-06 00:00:00+00:00   43     RESISTÊNCIA            1   \n",
       "\n",
       "        Hipertension  Diabetes  Alcoholism  Handcap  SMS_received No_show  \n",
       "17                 0         0           0        0             0     Yes  \n",
       "31                 0         0           0        0             0     Yes  \n",
       "51                 0         0           0        0             1     Yes  \n",
       "52                 0         0           0        0             1     Yes  \n",
       "123                0         0           0        0             1     Yes  \n",
       "...              ...       ...         ...      ...           ...     ...  \n",
       "110238             0         0           0        0             1     Yes  \n",
       "110351             0         0           0        0             1     Yes  \n",
       "110400             0         0           0        0             1     Yes  \n",
       "110479             0         0           0        0             1     Yes  \n",
       "110482             0         0           0        0             1     Yes  \n",
       "\n",
       "[2571 rows x 14 columns]"
      ]
     },
     "execution_count": 13,
     "metadata": {},
     "output_type": "execute_result"
    }
   ],
   "source": [
    "\n",
    "\n",
    "# Scholaship Group Not show Up\n",
    "df_SC.query('No_show == \"Yes\"')\n",
    "df.shape    #----> 96178\n",
    "\n",
    "# Non_Scholaship Group Non show Up\n",
    "df_NSC.query('No_show == \"Yes\"')\n",
    "#df_NSC.shape  # ---> 10809\n",
    "\n",
    "# Most of the Scholership pations are miss the appointment"
   ]
  },
  {
   "cell_type": "markdown",
   "metadata": {},
   "source": [
    "<a id='eda'></a>\n",
    "## Exploratory Data Analysis\n",
    "\n",
    "> **Tip**: Now that you've trimmed and cleaned your data, you're ready to move on to exploration. Compute statistics and create visualizations with the goal of addressing the research questions that you posed in the Introduction section. It is recommended that you be systematic with your approach. Look at one variable at a time, and then follow it up by looking at relationships between variables.\n",
    "\n",
    "### Research Question 1 (Replace this header name!)"
   ]
  },
  {
   "cell_type": "code",
   "execution_count": 108,
   "metadata": {},
   "outputs": [
    {
     "data": {
      "image/png": "[encoded data removed]",
      "text/plain": [
       "<Figure size 720x720 with 9 Axes>"
      ]
     },
     "metadata": {
      "needs_background": "light"
     },
     "output_type": "display_data"
    }
   ],
   "source": [
    "#Age variable is skewed to the right\n",
    "#Appointment ID variable is skewed to the right\n",
    "\n",
    "df.hist(figsize=(10,10));"
   ]
  },
  {
   "cell_type": "code",
   "execution_count": 16,
   "metadata": {},
   "outputs": [
    {
     "data": {
      "image/png": "[encoded data removed]",
      "text/plain": [
       "<Figure size 432x288 with 1 Axes>"
      ]
     },
     "metadata": {
      "needs_background": "light"
     },
     "output_type": "display_data"
    }
   ],
   "source": [
    "import matplotlib.pyplot as plt\n",
    "\n",
    "df.head()\n",
    "# Appointment Showed up or Not vs Age\n",
    "\n",
    "df.Age[NoTShown].hist(alpha=0.5, bins=20, label='Not Showed Up')\n",
    "df.Age[Shown].hist(alpha=0.5, bins=20,label='Showed Up' )\n",
    "plt.legend();\n",
    "\n",
    "\n",
    "                      \n"
   ]
  },
  {
   "cell_type": "markdown",
   "metadata": {},
   "source": [
    "### Research Question 2  (Replace this header name!)"
   ]
  },
  {
   "cell_type": "code",
   "execution_count": 17,
   "metadata": {},
   "outputs": [
    {
     "data": {
      "text/plain": [
       "<matplotlib.axes._subplots.AxesSubplot at 0x2cc124ff9c8>"
      ]
     },
     "execution_count": 17,
     "metadata": {},
     "output_type": "execute_result"
    },
    {
     "data": {
      "image/png": "[encoded data removed]",
      "text/plain": [
       "<Figure size 576x576 with 1 Axes>"
      ]
     },
     "metadata": {},
     "output_type": "display_data"
    }
   ],
   "source": [
    "#df['Gender'].value_counts().plot(kind='pie', figsize=(8,8))\n",
    "\n",
    "# Gender vs Showed up or NoT\n",
    "df.groupby('Gender')['No_show'].value_counts().plot(kind='pie', figsize=(8,8), title='Gender vs Appointment Attendence')\n"
   ]
  },
  {
   "cell_type": "code",
   "execution_count": 111,
   "metadata": {},
   "outputs": [
    {
     "data": {
      "text/plain": [
       "<matplotlib.axes._subplots.AxesSubplot at 0x20be9579148>"
      ]
     },
     "execution_count": 111,
     "metadata": {},
     "output_type": "execute_result"
    },
    {
     "data": {
      "image/png": "[encoded data removed]",
      "text/plain": [
       "<Figure size 432x288 with 1 Axes>"
      ]
     },
     "metadata": {
      "needs_background": "light"
     },
     "output_type": "display_data"
    }
   ],
   "source": [
    "df.groupby('Scholarship')['No_show'].value_counts().plot(kind='bar', title= \"Scolarship vs Showup or Not\")"
   ]
  },
  {
   "cell_type": "markdown",
   "metadata": {},
   "source": [
    "<a id='conclusions'></a>\n",
    "## Conclusions\n",
    "\n",
    "Most of the females booked the appointment and Most of them are showed up for an appointment. Few People has Scolership appointment. Age More than 85 are not showed up ( right to the skwed). Kids(age up to 8) showed up more. Age 25 to 25 are Not showed up for an appointment. "
   ]
  }
 ],
 "metadata": {
  "kernelspec": {
   "display_name": "Python 3",
   "language": "python",
   "name": "python3"
  },
  "language_info": {
   "codemirror_mode": {
    "name": "ipython",
    "version": 3
   },
   "file_extension": ".py",
   "mimetype": "text/x-python",
   "name": "python",
   "nbconvert_exporter": "python",
   "pygments_lexer": "ipython3",
   "version": "3.7.4"
  }
 },
 "nbformat": 4,
 "nbformat_minor": 2
}
